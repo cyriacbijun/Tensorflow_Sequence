{
 "cells": [
  {
   "cell_type": "code",
   "execution_count": 1,
   "metadata": {
    "colab": {
     "base_uri": "https://localhost:8080/",
     "height": 34
    },
    "colab_type": "code",
    "id": "adWIBMOqxdKO",
    "outputId": "f9015238-906a-4a48-8615-2f28dffb2952"
   },
   "outputs": [
    {
     "name": "stdout",
     "output_type": "stream",
     "text": [
      "2.2.0-rc3\n"
     ]
    }
   ],
   "source": [
    "import tensorflow as tf\n",
    "print(tf.__version__)"
   ]
  },
  {
   "cell_type": "code",
   "execution_count": 0,
   "metadata": {
    "colab": {},
    "colab_type": "code",
    "id": "qpXVrWFyxpHG"
   },
   "outputs": [],
   "source": [
    "import numpy as np\n",
    "import matplotlib.pyplot as plt\n",
    "def plot_series(time, series, format=\"-\", start=0, end=None):\n",
    "    plt.plot(time[start:end], series[start:end], format)\n",
    "    plt.xlabel(\"Time\")\n",
    "    plt.ylabel(\"Value\")\n",
    "    plt.grid(True)"
   ]
  },
  {
   "cell_type": "markdown",
   "metadata": {
    "colab_type": "text",
    "id": "xMy8QfFBzFxy"
   },
   "source": [
    "First, Downloading the data.."
   ]
  },
  {
   "cell_type": "code",
   "execution_count": 3,
   "metadata": {
    "colab": {
     "base_uri": "https://localhost:8080/",
     "height": 202
    },
    "colab_type": "code",
    "id": "s4vvsChfxskG",
    "outputId": "fe9d82b5-5121-4ddf-ae7b-5c0122974bc6"
   },
   "outputs": [
    {
     "name": "stdout",
     "output_type": "stream",
     "text": [
      "--2020-05-01 11:07:07--  https://raw.githubusercontent.com/jbrownlee/Datasets/master/daily-min-temperatures.csv\n",
      "Resolving raw.githubusercontent.com (raw.githubusercontent.com)... 151.101.0.133, 151.101.64.133, 151.101.128.133, ...\n",
      "Connecting to raw.githubusercontent.com (raw.githubusercontent.com)|151.101.0.133|:443... connected.\n",
      "HTTP request sent, awaiting response... 200 OK\n",
      "Length: 67921 (66K) [text/plain]\n",
      "Saving to: ‘daily-min-temperatures.csv’\n",
      "\n",
      "\r",
      "          daily-min   0%[                    ]       0  --.-KB/s               \r",
      "daily-min-temperatu 100%[===================>]  66.33K  --.-KB/s    in 0.008s  \n",
      "\n",
      "2020-05-01 11:07:08 (7.69 MB/s) - ‘daily-min-temperatures.csv’ saved [67921/67921]\n",
      "\n"
     ]
    }
   ],
   "source": [
    "!wget --no-check-certificate \\\n",
    "    https://raw.githubusercontent.com/jbrownlee/Datasets/master/daily-min-temperatures.csv \\\n",
    "    -O daily-min-temperatures.csv"
   ]
  },
  {
   "cell_type": "markdown",
   "metadata": {
    "colab_type": "text",
    "id": "QmxirqBMzJOW"
   },
   "source": [
    "Now that we downloaded the sunspot data, let us understand the structure of the .csv file using pandas. This step is not really necessary."
   ]
  },
  {
   "cell_type": "code",
   "execution_count": 5,
   "metadata": {
    "colab": {
     "base_uri": "https://localhost:8080/",
     "height": 195
    },
    "colab_type": "code",
    "id": "E5ACVuVTy3LZ",
    "outputId": "2b8b66d2-c07f-498d-cc70-7b2a3e6c10d7"
   },
   "outputs": [
    {
     "data": {
      "text/html": [
       "<div>\n",
       "<style scoped>\n",
       "    .dataframe tbody tr th:only-of-type {\n",
       "        vertical-align: middle;\n",
       "    }\n",
       "\n",
       "    .dataframe tbody tr th {\n",
       "        vertical-align: top;\n",
       "    }\n",
       "\n",
       "    .dataframe thead th {\n",
       "        text-align: right;\n",
       "    }\n",
       "</style>\n",
       "<table border=\"1\" class=\"dataframe\">\n",
       "  <thead>\n",
       "    <tr style=\"text-align: right;\">\n",
       "      <th></th>\n",
       "      <th>Date</th>\n",
       "      <th>Temp</th>\n",
       "    </tr>\n",
       "  </thead>\n",
       "  <tbody>\n",
       "    <tr>\n",
       "      <th>0</th>\n",
       "      <td>1981-01-01</td>\n",
       "      <td>20.7</td>\n",
       "    </tr>\n",
       "    <tr>\n",
       "      <th>1</th>\n",
       "      <td>1981-01-02</td>\n",
       "      <td>17.9</td>\n",
       "    </tr>\n",
       "    <tr>\n",
       "      <th>2</th>\n",
       "      <td>1981-01-03</td>\n",
       "      <td>18.8</td>\n",
       "    </tr>\n",
       "    <tr>\n",
       "      <th>3</th>\n",
       "      <td>1981-01-04</td>\n",
       "      <td>14.6</td>\n",
       "    </tr>\n",
       "    <tr>\n",
       "      <th>4</th>\n",
       "      <td>1981-01-05</td>\n",
       "      <td>15.8</td>\n",
       "    </tr>\n",
       "  </tbody>\n",
       "</table>\n",
       "</div>"
      ],
      "text/plain": [
       "         Date  Temp\n",
       "0  1981-01-01  20.7\n",
       "1  1981-01-02  17.9\n",
       "2  1981-01-03  18.8\n",
       "3  1981-01-04  14.6\n",
       "4  1981-01-05  15.8"
      ]
     },
     "execution_count": 5,
     "metadata": {
      "tags": []
     },
     "output_type": "execute_result"
    }
   ],
   "source": [
    "import pandas as pd\n",
    "data = pd.read_csv('daily-min-temperatures.csv')\n",
    "data.head()"
   ]
  },
  {
   "cell_type": "markdown",
   "metadata": {
    "colab_type": "text",
    "id": "fQywyesh7HZ4"
   },
   "source": [
    "We do not need the first row,that's why we have `next(reader)`. In the for loop we are appending the temp values only, as float. After that we plot to see the series."
   ]
  },
  {
   "cell_type": "code",
   "execution_count": 6,
   "metadata": {
    "colab": {
     "base_uri": "https://localhost:8080/",
     "height": 388
    },
    "colab_type": "code",
    "id": "nbWjknPnxvjn",
    "outputId": "03c25e44-cb0c-453b-ea32-06ce18d629ca"
   },
   "outputs": [
    {
     "data": {
      "image/png": "[encoded data removed]",
      "text/plain": [
       "<Figure size 720x432 with 1 Axes>"
      ]
     },
     "metadata": {
      "needs_background": "light",
      "tags": []
     },
     "output_type": "display_data"
    }
   ],
   "source": [
    "import csv\n",
    "time_step = []\n",
    "temps = []\n",
    "\n",
    "with open('daily-min-temperatures.csv') as csvfile:\n",
    "  reader = csv.reader(csvfile, delimiter=',')\n",
    "  next(reader)\n",
    "  step=0\n",
    "  for row in reader:\n",
    "    temps.append(float(row[1]))\n",
    "    time_step.append(step)\n",
    "    step = step + 1\n",
    "\n",
    "series = np.array(temps)\n",
    "time = np.array(time_step)\n",
    "plt.figure(figsize=(10, 6))\n",
    "plot_series(time, series)"
   ]
  },
  {
   "cell_type": "code",
   "execution_count": 13,
   "metadata": {
    "colab": {
     "base_uri": "https://localhost:8080/",
     "height": 34
    },
    "colab_type": "code",
    "id": "aNxG8F4e7pnM",
    "outputId": "93c03100-0a22-45a0-f7f2-36e8e3ee44f2"
   },
   "outputs": [
    {
     "data": {
      "text/plain": [
       "3650"
      ]
     },
     "execution_count": 13,
     "metadata": {
      "tags": []
     },
     "output_type": "execute_result"
    }
   ],
   "source": [
    "len(temps)"
   ]
  },
  {
   "cell_type": "markdown",
   "metadata": {
    "colab_type": "text",
    "id": "D5gibUBP72D6"
   },
   "source": [
    "We are splitting the train and validation data as 2500 and 1150."
   ]
  },
  {
   "cell_type": "code",
   "execution_count": 0,
   "metadata": {
    "colab": {},
    "colab_type": "code",
    "id": "Y-hFArqvx2-l"
   },
   "outputs": [],
   "source": [
    "split_time = 2500\n",
    "time_train = time[:split_time]\n",
    "x_train = series[:split_time]\n",
    "time_valid = time[split_time:]\n",
    "x_valid = series[split_time:]\n",
    "\n",
    "window_size = 30\n",
    "batch_size = 32\n",
    "shuffle_buffer_size = 1000\n"
   ]
  },
  {
   "cell_type": "markdown",
   "metadata": {
    "colab_type": "text",
    "id": "3VJeGeH57k72"
   },
   "source": [
    "Below function `windowed_dataset` is used to create dataset usin `tf.data.Dataset` format. The `model_forecast` function is used to predict the values from the series provided. It also accepts the trained model as an arguement."
   ]
  },
  {
   "cell_type": "code",
   "execution_count": 0,
   "metadata": {
    "colab": {},
    "colab_type": "code",
    "id": "tQU-nCuEx7Kg"
   },
   "outputs": [],
   "source": [
    "def windowed_dataset(series, window_size, batch_size, shuffle_buffer):\n",
    "    series = tf.expand_dims(series, axis=-1)\n",
    "    ds = tf.data.Dataset.from_tensor_slices(series)\n",
    "    ds = ds.window(window_size + 1, shift=1, drop_remainder=True)\n",
    "    ds = ds.flat_map(lambda w: w.batch(window_size + 1))\n",
    "    ds = ds.shuffle(shuffle_buffer)\n",
    "    ds = ds.map(lambda w: (w[:-1], w[1:]))\n",
    "    return ds.batch(batch_size).prefetch(1)"
   ]
  },
  {
   "cell_type": "code",
   "execution_count": 0,
   "metadata": {
    "colab": {},
    "colab_type": "code",
    "id": "5pOsMtN7yLNQ"
   },
   "outputs": [],
   "source": [
    "def model_forecast(model, series, window_size):\n",
    "    ds = tf.data.Dataset.from_tensor_slices(series)\n",
    "    ds = ds.window(window_size, shift=1, drop_remainder=True)\n",
    "    ds = ds.flat_map(lambda w: w.batch(window_size))\n",
    "    ds = ds.batch(32).prefetch(1)\n",
    "    forecast = model.predict(ds)\n",
    "    return forecast"
   ]
  },
  {
   "cell_type": "markdown",
   "metadata": {
    "colab_type": "text",
    "id": "SJ0-vuT88kcw"
   },
   "source": [
    "As we did in the previous blogs,after defining model structure, we are using `tf.keras.callbacks.LearningRateScheduler` to dynamically change the learning rate upon epochs. This will enable us to find the optimum learning rate.\n",
    "\n",
    "Our model is a combination of Convolution and 2 LSTMs, both of which are bidirectional and having `return_sequences` as true. This improves the model `mae` but we have to check hoe accurate it will be after prediction and checking with validation set. "
   ]
  },
  {
   "cell_type": "code",
   "execution_count": 10,
   "metadata": {
    "colab": {
     "base_uri": "https://localhost:8080/",
     "height": 1000
    },
    "colab_type": "code",
    "id": "yWDqUYIJyOQC",
    "outputId": "f1c4bd98-7038-4e37-d29f-83c6755e3cc0"
   },
   "outputs": [
    {
     "name": "stdout",
     "output_type": "stream",
     "text": [
      "<PrefetchDataset shapes: ((None, None, 1), (None, None, 1)), types: (tf.float64, tf.float64)>\n",
      "(2500,)\n",
      "Epoch 1/100\n",
      "10/10 [==============================] - 0s 31ms/step - loss: 31.1706 - mae: 31.6550 - lr: 1.0000e-08\n",
      "Epoch 2/100\n",
      "10/10 [==============================] - 0s 23ms/step - loss: 30.5228 - mae: 31.0756 - lr: 1.1220e-08\n",
      "Epoch 3/100\n",
      "10/10 [==============================] - 0s 23ms/step - loss: 29.6681 - mae: 30.1801 - lr: 1.2589e-08\n",
      "Epoch 4/100\n",
      "10/10 [==============================] - 0s 24ms/step - loss: 28.6311 - mae: 29.0586 - lr: 1.4125e-08\n",
      "Epoch 5/100\n",
      "10/10 [==============================] - 0s 24ms/step - loss: 27.1851 - mae: 27.6945 - lr: 1.5849e-08\n",
      "Epoch 6/100\n",
      "10/10 [==============================] - 0s 24ms/step - loss: 25.5238 - mae: 25.9986 - lr: 1.7783e-08\n",
      "Epoch 7/100\n",
      "10/10 [==============================] - 0s 24ms/step - loss: 23.2871 - mae: 23.8429 - lr: 1.9953e-08\n",
      "Epoch 8/100\n",
      "10/10 [==============================] - 0s 24ms/step - loss: 20.5082 - mae: 21.1108 - lr: 2.2387e-08\n",
      "Epoch 9/100\n",
      "10/10 [==============================] - 0s 25ms/step - loss: 17.1935 - mae: 17.8091 - lr: 2.5119e-08\n",
      "Epoch 10/100\n",
      "10/10 [==============================] - 0s 23ms/step - loss: 13.4642 - mae: 14.1371 - lr: 2.8184e-08\n",
      "Epoch 11/100\n",
      "10/10 [==============================] - 0s 25ms/step - loss: 10.0364 - mae: 10.6152 - lr: 3.1623e-08\n",
      "Epoch 12/100\n",
      "10/10 [==============================] - 0s 23ms/step - loss: 7.5764 - mae: 8.1025 - lr: 3.5481e-08\n",
      "Epoch 13/100\n",
      "10/10 [==============================] - 0s 24ms/step - loss: 6.2482 - mae: 6.7711 - lr: 3.9811e-08\n",
      "Epoch 14/100\n",
      "10/10 [==============================] - 0s 24ms/step - loss: 5.6777 - mae: 6.1856 - lr: 4.4668e-08\n",
      "Epoch 15/100\n",
      "10/10 [==============================] - 0s 24ms/step - loss: 5.3116 - mae: 5.8166 - lr: 5.0119e-08\n",
      "Epoch 16/100\n",
      "10/10 [==============================] - 0s 25ms/step - loss: 4.9275 - mae: 5.4206 - lr: 5.6234e-08\n",
      "Epoch 17/100\n",
      "10/10 [==============================] - 0s 24ms/step - loss: 4.5450 - mae: 5.0338 - lr: 6.3096e-08\n",
      "Epoch 18/100\n",
      "10/10 [==============================] - 0s 24ms/step - loss: 4.2185 - mae: 4.7085 - lr: 7.0795e-08\n",
      "Epoch 19/100\n",
      "10/10 [==============================] - 0s 24ms/step - loss: 3.9399 - mae: 4.4360 - lr: 7.9433e-08\n",
      "Epoch 20/100\n",
      "10/10 [==============================] - 0s 23ms/step - loss: 3.7303 - mae: 4.2177 - lr: 8.9125e-08\n",
      "Epoch 21/100\n",
      "10/10 [==============================] - 0s 23ms/step - loss: 3.5704 - mae: 4.0566 - lr: 1.0000e-07\n",
      "Epoch 22/100\n",
      "10/10 [==============================] - 0s 24ms/step - loss: 3.4603 - mae: 3.9344 - lr: 1.1220e-07\n",
      "Epoch 23/100\n",
      "10/10 [==============================] - 0s 25ms/step - loss: 3.3656 - mae: 3.8414 - lr: 1.2589e-07\n",
      "Epoch 24/100\n",
      "10/10 [==============================] - 0s 25ms/step - loss: 3.2869 - mae: 3.7645 - lr: 1.4125e-07\n",
      "Epoch 25/100\n",
      "10/10 [==============================] - 0s 24ms/step - loss: 3.2232 - mae: 3.6978 - lr: 1.5849e-07\n",
      "Epoch 26/100\n",
      "10/10 [==============================] - 0s 23ms/step - loss: 3.1540 - mae: 3.6346 - lr: 1.7783e-07\n",
      "Epoch 27/100\n",
      "10/10 [==============================] - 0s 26ms/step - loss: 3.1000 - mae: 3.5693 - lr: 1.9953e-07\n",
      "Epoch 28/100\n",
      "10/10 [==============================] - 0s 25ms/step - loss: 3.0355 - mae: 3.5053 - lr: 2.2387e-07\n",
      "Epoch 29/100\n",
      "10/10 [==============================] - 0s 25ms/step - loss: 2.9662 - mae: 3.4379 - lr: 2.5119e-07\n",
      "Epoch 30/100\n",
      "10/10 [==============================] - 0s 23ms/step - loss: 2.9018 - mae: 3.3712 - lr: 2.8184e-07\n",
      "Epoch 31/100\n",
      "10/10 [==============================] - 0s 25ms/step - loss: 2.8406 - mae: 3.3098 - lr: 3.1623e-07\n",
      "Epoch 32/100\n",
      "10/10 [==============================] - 0s 25ms/step - loss: 2.7814 - mae: 3.2479 - lr: 3.5481e-07\n",
      "Epoch 33/100\n",
      "10/10 [==============================] - 0s 23ms/step - loss: 2.7205 - mae: 3.1891 - lr: 3.9811e-07\n",
      "Epoch 34/100\n",
      "10/10 [==============================] - 0s 23ms/step - loss: 2.6695 - mae: 3.1379 - lr: 4.4668e-07\n",
      "Epoch 35/100\n",
      "10/10 [==============================] - 0s 24ms/step - loss: 2.6166 - mae: 3.0848 - lr: 5.0119e-07\n",
      "Epoch 36/100\n",
      "10/10 [==============================] - 0s 23ms/step - loss: 2.5696 - mae: 3.0357 - lr: 5.6234e-07\n",
      "Epoch 37/100\n",
      "10/10 [==============================] - 0s 27ms/step - loss: 2.5223 - mae: 2.9877 - lr: 6.3096e-07\n",
      "Epoch 38/100\n",
      "10/10 [==============================] - 0s 24ms/step - loss: 2.4715 - mae: 2.9415 - lr: 7.0795e-07\n",
      "Epoch 39/100\n",
      "10/10 [==============================] - 0s 26ms/step - loss: 2.4295 - mae: 2.8968 - lr: 7.9433e-07\n",
      "Epoch 40/100\n",
      "10/10 [==============================] - 0s 25ms/step - loss: 2.3863 - mae: 2.8541 - lr: 8.9125e-07\n",
      "Epoch 41/100\n",
      "10/10 [==============================] - 0s 24ms/step - loss: 2.3447 - mae: 2.8124 - lr: 1.0000e-06\n",
      "Epoch 42/100\n",
      "10/10 [==============================] - 0s 25ms/step - loss: 2.3051 - mae: 2.7718 - lr: 1.1220e-06\n",
      "Epoch 43/100\n",
      "10/10 [==============================] - 0s 24ms/step - loss: 2.2710 - mae: 2.7315 - lr: 1.2589e-06\n",
      "Epoch 44/100\n",
      "10/10 [==============================] - 0s 24ms/step - loss: 2.2294 - mae: 2.6913 - lr: 1.4125e-06\n",
      "Epoch 45/100\n",
      "10/10 [==============================] - 0s 23ms/step - loss: 2.1910 - mae: 2.6523 - lr: 1.5849e-06\n",
      "Epoch 46/100\n",
      "10/10 [==============================] - 0s 23ms/step - loss: 2.1624 - mae: 2.6190 - lr: 1.7783e-06\n",
      "Epoch 47/100\n",
      "10/10 [==============================] - 0s 23ms/step - loss: 2.1291 - mae: 2.5877 - lr: 1.9953e-06\n",
      "Epoch 48/100\n",
      "10/10 [==============================] - 0s 24ms/step - loss: 2.0990 - mae: 2.5607 - lr: 2.2387e-06\n",
      "Epoch 49/100\n",
      "10/10 [==============================] - 0s 23ms/step - loss: 2.0698 - mae: 2.5300 - lr: 2.5119e-06\n",
      "Epoch 50/100\n",
      "10/10 [==============================] - 0s 24ms/step - loss: 2.0455 - mae: 2.5040 - lr: 2.8184e-06\n",
      "Epoch 51/100\n",
      "10/10 [==============================] - 0s 24ms/step - loss: 2.0226 - mae: 2.4818 - lr: 3.1623e-06\n",
      "Epoch 52/100\n",
      "10/10 [==============================] - 0s 23ms/step - loss: 2.0002 - mae: 2.4598 - lr: 3.5481e-06\n",
      "Epoch 53/100\n",
      "10/10 [==============================] - 0s 23ms/step - loss: 1.9872 - mae: 2.4443 - lr: 3.9811e-06\n",
      "Epoch 54/100\n",
      "10/10 [==============================] - 0s 23ms/step - loss: 1.9620 - mae: 2.4193 - lr: 4.4668e-06\n",
      "Epoch 55/100\n",
      "10/10 [==============================] - 0s 23ms/step - loss: 1.9474 - mae: 2.4008 - lr: 5.0119e-06\n",
      "Epoch 56/100\n",
      "10/10 [==============================] - 0s 24ms/step - loss: 1.9220 - mae: 2.3783 - lr: 5.6234e-06\n",
      "Epoch 57/100\n",
      "10/10 [==============================] - 0s 24ms/step - loss: 1.9025 - mae: 2.3620 - lr: 6.3096e-06\n",
      "Epoch 58/100\n",
      "10/10 [==============================] - 0s 23ms/step - loss: 1.8872 - mae: 2.3394 - lr: 7.0795e-06\n",
      "Epoch 59/100\n",
      "10/10 [==============================] - 0s 26ms/step - loss: 1.8568 - mae: 2.3121 - lr: 7.9433e-06\n",
      "Epoch 60/100\n",
      "10/10 [==============================] - 0s 26ms/step - loss: 2.1811 - mae: 2.6562 - lr: 8.9125e-06\n",
      "Epoch 61/100\n",
      "10/10 [==============================] - 0s 25ms/step - loss: 2.6798 - mae: 3.1553 - lr: 1.0000e-05\n",
      "Epoch 62/100\n",
      "10/10 [==============================] - 0s 23ms/step - loss: 3.0776 - mae: 3.5613 - lr: 1.1220e-05\n",
      "Epoch 63/100\n",
      "10/10 [==============================] - 0s 22ms/step - loss: 3.5627 - mae: 3.9954 - lr: 1.2589e-05\n",
      "Epoch 64/100\n",
      "10/10 [==============================] - 0s 24ms/step - loss: 3.6635 - mae: 4.1405 - lr: 1.4125e-05\n",
      "Epoch 65/100\n",
      "10/10 [==============================] - 0s 23ms/step - loss: 4.1839 - mae: 4.6922 - lr: 1.5849e-05\n",
      "Epoch 66/100\n",
      "10/10 [==============================] - 0s 23ms/step - loss: 4.3617 - mae: 4.8699 - lr: 1.7783e-05\n",
      "Epoch 67/100\n",
      "10/10 [==============================] - 0s 26ms/step - loss: 4.6143 - mae: 5.1154 - lr: 1.9953e-05\n",
      "Epoch 68/100\n",
      "10/10 [==============================] - 0s 23ms/step - loss: 4.6684 - mae: 5.1861 - lr: 2.2387e-05\n",
      "Epoch 69/100\n",
      "10/10 [==============================] - 0s 24ms/step - loss: 4.8741 - mae: 5.4719 - lr: 2.5119e-05\n",
      "Epoch 70/100\n",
      "10/10 [==============================] - 0s 24ms/step - loss: 5.0190 - mae: 5.5396 - lr: 2.8184e-05\n",
      "Epoch 71/100\n",
      "10/10 [==============================] - 0s 23ms/step - loss: 5.6000 - mae: 6.0736 - lr: 3.1623e-05\n",
      "Epoch 72/100\n",
      "10/10 [==============================] - 0s 24ms/step - loss: 5.4061 - mae: 5.9323 - lr: 3.5481e-05\n",
      "Epoch 73/100\n",
      "10/10 [==============================] - 0s 24ms/step - loss: 4.5663 - mae: 5.0131 - lr: 3.9811e-05\n",
      "Epoch 74/100\n",
      "10/10 [==============================] - 0s 24ms/step - loss: 4.2385 - mae: 4.7400 - lr: 4.4668e-05\n",
      "Epoch 75/100\n",
      "10/10 [==============================] - 0s 26ms/step - loss: 3.8110 - mae: 4.2483 - lr: 5.0119e-05\n",
      "Epoch 76/100\n",
      "10/10 [==============================] - 0s 25ms/step - loss: 4.0372 - mae: 4.5317 - lr: 5.6234e-05\n",
      "Epoch 77/100\n",
      "10/10 [==============================] - 0s 25ms/step - loss: 4.0612 - mae: 4.5477 - lr: 6.3096e-05\n",
      "Epoch 78/100\n",
      "10/10 [==============================] - 0s 24ms/step - loss: 4.0974 - mae: 4.6127 - lr: 7.0795e-05\n",
      "Epoch 79/100\n",
      "10/10 [==============================] - 0s 25ms/step - loss: 2.9855 - mae: 3.4656 - lr: 7.9433e-05\n",
      "Epoch 80/100\n",
      "10/10 [==============================] - 0s 25ms/step - loss: 3.3014 - mae: 3.8295 - lr: 8.9125e-05\n",
      "Epoch 81/100\n",
      "10/10 [==============================] - 0s 26ms/step - loss: 3.2526 - mae: 3.7488 - lr: 1.0000e-04\n",
      "Epoch 82/100\n",
      "10/10 [==============================] - 0s 25ms/step - loss: 3.9145 - mae: 4.4089 - lr: 1.1220e-04\n",
      "Epoch 83/100\n",
      "10/10 [==============================] - 0s 24ms/step - loss: 4.4860 - mae: 4.9016 - lr: 1.2589e-04\n",
      "Epoch 84/100\n",
      "10/10 [==============================] - 0s 23ms/step - loss: 4.9954 - mae: 5.4146 - lr: 1.4125e-04\n",
      "Epoch 85/100\n",
      "10/10 [==============================] - 0s 27ms/step - loss: 5.8608 - mae: 6.4323 - lr: 1.5849e-04\n",
      "Epoch 86/100\n",
      "10/10 [==============================] - 0s 24ms/step - loss: 6.1167 - mae: 6.7497 - lr: 1.7783e-04\n",
      "Epoch 87/100\n",
      "10/10 [==============================] - 0s 26ms/step - loss: 5.7634 - mae: 6.1832 - lr: 1.9953e-04\n",
      "Epoch 88/100\n",
      "10/10 [==============================] - 0s 25ms/step - loss: 18.4549 - mae: 18.5721 - lr: 2.2387e-04\n",
      "Epoch 89/100\n",
      "10/10 [==============================] - 0s 25ms/step - loss: 19.1328 - mae: 19.9009 - lr: 2.5119e-04\n",
      "Epoch 90/100\n",
      "10/10 [==============================] - 0s 26ms/step - loss: 26.0024 - mae: 25.3163 - lr: 2.8184e-04\n",
      "Epoch 91/100\n",
      "10/10 [==============================] - 0s 26ms/step - loss: 39.1242 - mae: 41.0090 - lr: 3.1623e-04\n",
      "Epoch 92/100\n",
      "10/10 [==============================] - 0s 24ms/step - loss: 29.0936 - mae: 29.5980 - lr: 3.5481e-04\n",
      "Epoch 93/100\n",
      "10/10 [==============================] - 0s 24ms/step - loss: 33.0701 - mae: 32.9219 - lr: 3.9811e-04\n",
      "Epoch 94/100\n",
      "10/10 [==============================] - 0s 26ms/step - loss: 36.9112 - mae: 37.8804 - lr: 4.4668e-04\n",
      "Epoch 95/100\n",
      "10/10 [==============================] - 0s 27ms/step - loss: 41.6311 - mae: 41.2765 - lr: 5.0119e-04\n",
      "Epoch 96/100\n",
      "10/10 [==============================] - 0s 25ms/step - loss: 46.5597 - mae: 47.5416 - lr: 5.6234e-04\n",
      "Epoch 97/100\n",
      "10/10 [==============================] - 0s 24ms/step - loss: 52.5361 - mae: 52.1260 - lr: 6.3096e-04\n",
      "Epoch 98/100\n",
      "10/10 [==============================] - 0s 25ms/step - loss: 58.8236 - mae: 59.7652 - lr: 7.0795e-04\n",
      "Epoch 99/100\n",
      "10/10 [==============================] - 0s 25ms/step - loss: 66.3937 - mae: 65.8950 - lr: 7.9433e-04\n",
      "Epoch 100/100\n",
      "10/10 [==============================] - 0s 26ms/step - loss: 74.3771 - mae: 75.2363 - lr: 8.9125e-04\n"
     ]
    }
   ],
   "source": [
    "tf.keras.backend.clear_session()\n",
    "tf.random.set_seed(51)\n",
    "np.random.seed(51)\n",
    "window_size = 64\n",
    "batch_size = 256\n",
    "train_set = windowed_dataset(x_train, window_size, batch_size, shuffle_buffer_size)\n",
    "print(train_set)\n",
    "print(x_train.shape)\n",
    "\n",
    "model = tf.keras.models.Sequential([\n",
    "  tf.keras.layers.Conv1D(filters=32, kernel_size=5,\n",
    "                      strides=1, padding=\"causal\",\n",
    "                      activation=\"relu\",\n",
    "                      input_shape=[None, 1]),\n",
    "  tf.keras.layers.LSTM(64, return_sequences=True),\n",
    "  tf.keras.layers.LSTM(64, return_sequences=True),\n",
    "  tf.keras.layers.Dense(30, activation=\"relu\"),\n",
    "  tf.keras.layers.Dense(10, activation=\"relu\"),\n",
    "  tf.keras.layers.Dense(1),\n",
    "  tf.keras.layers.Lambda(lambda x: x * 400)\n",
    "])\n",
    "\n",
    "lr_schedule = tf.keras.callbacks.LearningRateScheduler(\n",
    "    lambda epoch: 1e-8 * 10**(epoch / 20))\n",
    "optimizer = tf.keras.optimizers.SGD(lr=1e-8, momentum=0.9)\n",
    "model.compile(loss=tf.keras.losses.Huber(),\n",
    "              optimizer=optimizer,\n",
    "              metrics=[\"mae\"])\n",
    "history = model.fit(train_set, epochs=100, callbacks=[lr_schedule])\n"
   ]
  },
  {
   "cell_type": "code",
   "execution_count": 11,
   "metadata": {
    "colab": {
     "base_uri": "https://localhost:8080/",
     "height": 290
    },
    "colab_type": "code",
    "id": "xgZLX_52ycgl",
    "outputId": "bb5ecca0-299b-4953-c0ca-e0cda5b30483"
   },
   "outputs": [
    {
     "data": {
      "text/plain": [
       "(1e-08, 0.0001, 0.0, 60.0)"
      ]
     },
     "execution_count": 11,
     "metadata": {
      "tags": []
     },
     "output_type": "execute_result"
    },
    {
     "data": {
      "image/png": "[encoded data removed]",
      "text/plain": [
       "<Figure size 432x288 with 1 Axes>"
      ]
     },
     "metadata": {
      "needs_background": "light",
      "tags": []
     },
     "output_type": "display_data"
    }
   ],
   "source": [
    "plt.semilogx(history.history[\"lr\"], history.history[\"loss\"])\n",
    "plt.axis([1e-8, 1e-4, 0, 60])"
   ]
  },
  {
   "cell_type": "markdown",
   "metadata": {
    "colab_type": "text",
    "id": "NYLn6G-19z2P"
   },
   "source": [
    "After plotting the graph we see that the loss is really low and stable for the learning_rate = $10^{-5}$. Now,we train using that learning rate."
   ]
  },
  {
   "cell_type": "code",
   "execution_count": 12,
   "metadata": {
    "colab": {
     "base_uri": "https://localhost:8080/",
     "height": 1000
    },
    "colab_type": "code",
    "id": "pKBvsCkhyeKO",
    "outputId": "2997fea6-a8cd-45e8-f44a-ef0b18805292"
   },
   "outputs": [
    {
     "name": "stdout",
     "output_type": "stream",
     "text": [
      "Epoch 1/150\n",
      "25/25 [==============================] - 0s 14ms/step - loss: 9.8211 - mae: 10.4694\n",
      "Epoch 2/150\n",
      "25/25 [==============================] - 0s 13ms/step - loss: 2.5191 - mae: 2.9923\n",
      "Epoch 3/150\n",
      "25/25 [==============================] - 0s 13ms/step - loss: 1.9513 - mae: 2.4047\n",
      "Epoch 4/150\n",
      "25/25 [==============================] - 0s 13ms/step - loss: 1.8610 - mae: 2.3151\n",
      "Epoch 5/150\n",
      "25/25 [==============================] - 0s 13ms/step - loss: 1.8209 - mae: 2.2733\n",
      "Epoch 6/150\n",
      "25/25 [==============================] - 0s 13ms/step - loss: 1.7905 - mae: 2.2418\n",
      "Epoch 7/150\n",
      "25/25 [==============================] - 0s 14ms/step - loss: 1.7667 - mae: 2.2186\n",
      "Epoch 8/150\n",
      "25/25 [==============================] - 0s 13ms/step - loss: 1.7387 - mae: 2.1906\n",
      "Epoch 9/150\n",
      "25/25 [==============================] - 0s 13ms/step - loss: 1.7173 - mae: 2.1681\n",
      "Epoch 10/150\n",
      "25/25 [==============================] - 0s 13ms/step - loss: 1.6987 - mae: 2.1482\n",
      "Epoch 11/150\n",
      "25/25 [==============================] - 0s 13ms/step - loss: 1.6815 - mae: 2.1287\n",
      "Epoch 12/150\n",
      "25/25 [==============================] - 0s 14ms/step - loss: 1.6685 - mae: 2.1159\n",
      "Epoch 13/150\n",
      "25/25 [==============================] - 0s 14ms/step - loss: 1.6576 - mae: 2.1030\n",
      "Epoch 14/150\n",
      "25/25 [==============================] - 0s 14ms/step - loss: 1.6430 - mae: 2.0891\n",
      "Epoch 15/150\n",
      "25/25 [==============================] - 0s 13ms/step - loss: 1.6353 - mae: 2.0803\n",
      "Epoch 16/150\n",
      "25/25 [==============================] - 0s 13ms/step - loss: 1.6261 - mae: 2.0710\n",
      "Epoch 17/150\n",
      "25/25 [==============================] - 0s 13ms/step - loss: 1.6115 - mae: 2.0581\n",
      "Epoch 18/150\n",
      "25/25 [==============================] - 0s 13ms/step - loss: 1.6095 - mae: 2.0553\n",
      "Epoch 19/150\n",
      "25/25 [==============================] - 0s 13ms/step - loss: 1.5999 - mae: 2.0444\n",
      "Epoch 20/150\n",
      "25/25 [==============================] - 0s 14ms/step - loss: 1.5926 - mae: 2.0365\n",
      "Epoch 21/150\n",
      "25/25 [==============================] - 0s 13ms/step - loss: 1.5908 - mae: 2.0348\n",
      "Epoch 22/150\n",
      "25/25 [==============================] - 0s 12ms/step - loss: 1.5844 - mae: 2.0276\n",
      "Epoch 23/150\n",
      "25/25 [==============================] - 0s 13ms/step - loss: 1.5807 - mae: 2.0232\n",
      "Epoch 24/150\n",
      "25/25 [==============================] - 0s 14ms/step - loss: 1.5768 - mae: 2.0222\n",
      "Epoch 25/150\n",
      "25/25 [==============================] - 0s 13ms/step - loss: 1.5698 - mae: 2.0120\n",
      "Epoch 26/150\n",
      "25/25 [==============================] - 0s 13ms/step - loss: 1.5637 - mae: 2.0085\n",
      "Epoch 27/150\n",
      "25/25 [==============================] - 0s 13ms/step - loss: 1.5641 - mae: 2.0057\n",
      "Epoch 28/150\n",
      "25/25 [==============================] - 0s 13ms/step - loss: 1.5579 - mae: 2.0014\n",
      "Epoch 29/150\n",
      "25/25 [==============================] - 0s 13ms/step - loss: 1.5549 - mae: 1.9991\n",
      "Epoch 30/150\n",
      "25/25 [==============================] - 0s 14ms/step - loss: 1.5540 - mae: 1.9972\n",
      "Epoch 31/150\n",
      "25/25 [==============================] - 0s 13ms/step - loss: 1.5538 - mae: 1.9967\n",
      "Epoch 32/150\n",
      "25/25 [==============================] - 0s 13ms/step - loss: 1.5524 - mae: 1.9937\n",
      "Epoch 33/150\n",
      "25/25 [==============================] - 0s 13ms/step - loss: 1.5457 - mae: 1.9897\n",
      "Epoch 34/150\n",
      "25/25 [==============================] - 0s 14ms/step - loss: 1.5513 - mae: 1.9939\n",
      "Epoch 35/150\n",
      "25/25 [==============================] - 0s 14ms/step - loss: 1.5474 - mae: 1.9909\n",
      "Epoch 36/150\n",
      "25/25 [==============================] - 0s 13ms/step - loss: 1.5412 - mae: 1.9846\n",
      "Epoch 37/150\n",
      "25/25 [==============================] - 0s 14ms/step - loss: 1.5417 - mae: 1.9836\n",
      "Epoch 38/150\n",
      "25/25 [==============================] - 0s 13ms/step - loss: 1.5404 - mae: 1.9816\n",
      "Epoch 39/150\n",
      "25/25 [==============================] - 0s 14ms/step - loss: 1.5388 - mae: 1.9822\n",
      "Epoch 40/150\n",
      "25/25 [==============================] - 0s 13ms/step - loss: 1.5403 - mae: 1.9829\n",
      "Epoch 41/150\n",
      "25/25 [==============================] - 0s 13ms/step - loss: 1.5337 - mae: 1.9768\n",
      "Epoch 42/150\n",
      "25/25 [==============================] - 0s 13ms/step - loss: 1.5355 - mae: 1.9770\n",
      "Epoch 43/150\n",
      "25/25 [==============================] - 0s 13ms/step - loss: 1.5337 - mae: 1.9768\n",
      "Epoch 44/150\n",
      "25/25 [==============================] - 0s 14ms/step - loss: 1.5366 - mae: 1.9780\n",
      "Epoch 45/150\n",
      "25/25 [==============================] - 0s 13ms/step - loss: 1.5292 - mae: 1.9723\n",
      "Epoch 46/150\n",
      "25/25 [==============================] - 0s 14ms/step - loss: 1.5328 - mae: 1.9748\n",
      "Epoch 47/150\n",
      "25/25 [==============================] - 0s 14ms/step - loss: 1.5282 - mae: 1.9699\n",
      "Epoch 48/150\n",
      "25/25 [==============================] - 0s 13ms/step - loss: 1.5311 - mae: 1.9730\n",
      "Epoch 49/150\n",
      "25/25 [==============================] - 0s 13ms/step - loss: 1.5290 - mae: 1.9724\n",
      "Epoch 50/150\n",
      "25/25 [==============================] - 0s 13ms/step - loss: 1.5247 - mae: 1.9678\n",
      "Epoch 51/150\n",
      "25/25 [==============================] - 0s 14ms/step - loss: 1.5281 - mae: 1.9708\n",
      "Epoch 52/150\n",
      "25/25 [==============================] - 0s 13ms/step - loss: 1.5263 - mae: 1.9692\n",
      "Epoch 53/150\n",
      "25/25 [==============================] - 0s 13ms/step - loss: 1.5287 - mae: 1.9708\n",
      "Epoch 54/150\n",
      "25/25 [==============================] - 0s 13ms/step - loss: 1.5250 - mae: 1.9656\n",
      "Epoch 55/150\n",
      "25/25 [==============================] - 0s 13ms/step - loss: 1.5232 - mae: 1.9654\n",
      "Epoch 56/150\n",
      "25/25 [==============================] - 0s 13ms/step - loss: 1.5211 - mae: 1.9629\n",
      "Epoch 57/150\n",
      "25/25 [==============================] - 0s 13ms/step - loss: 1.5191 - mae: 1.9635\n",
      "Epoch 58/150\n",
      "25/25 [==============================] - 0s 13ms/step - loss: 1.5340 - mae: 1.9776\n",
      "Epoch 59/150\n",
      "25/25 [==============================] - 0s 13ms/step - loss: 1.5233 - mae: 1.9669\n",
      "Epoch 60/150\n",
      "25/25 [==============================] - 0s 13ms/step - loss: 1.5237 - mae: 1.9638\n",
      "Epoch 61/150\n",
      "25/25 [==============================] - 0s 14ms/step - loss: 1.5177 - mae: 1.9600\n",
      "Epoch 62/150\n",
      "25/25 [==============================] - 0s 14ms/step - loss: 1.5201 - mae: 1.9612\n",
      "Epoch 63/150\n",
      "25/25 [==============================] - 0s 13ms/step - loss: 1.5145 - mae: 1.9584\n",
      "Epoch 64/150\n",
      "25/25 [==============================] - 0s 13ms/step - loss: 1.5180 - mae: 1.9589\n",
      "Epoch 65/150\n",
      "25/25 [==============================] - 0s 13ms/step - loss: 1.5152 - mae: 1.9581\n",
      "Epoch 66/150\n",
      "25/25 [==============================] - 0s 14ms/step - loss: 1.5176 - mae: 1.9585\n",
      "Epoch 67/150\n",
      "25/25 [==============================] - 0s 14ms/step - loss: 1.5227 - mae: 1.9635\n",
      "Epoch 68/150\n",
      "25/25 [==============================] - 0s 14ms/step - loss: 1.5158 - mae: 1.9579\n",
      "Epoch 69/150\n",
      "25/25 [==============================] - 0s 13ms/step - loss: 1.5119 - mae: 1.9561\n",
      "Epoch 70/150\n",
      "25/25 [==============================] - 0s 13ms/step - loss: 1.5140 - mae: 1.9559\n",
      "Epoch 71/150\n",
      "25/25 [==============================] - 0s 14ms/step - loss: 1.5121 - mae: 1.9542\n",
      "Epoch 72/150\n",
      "25/25 [==============================] - 0s 13ms/step - loss: 1.5133 - mae: 1.9537\n",
      "Epoch 73/150\n",
      "25/25 [==============================] - 0s 13ms/step - loss: 1.5139 - mae: 1.9569\n",
      "Epoch 74/150\n",
      "25/25 [==============================] - 0s 13ms/step - loss: 1.5125 - mae: 1.9527\n",
      "Epoch 75/150\n",
      "25/25 [==============================] - 0s 13ms/step - loss: 1.5114 - mae: 1.9542\n",
      "Epoch 76/150\n",
      "25/25 [==============================] - 0s 14ms/step - loss: 1.5116 - mae: 1.9527\n",
      "Epoch 77/150\n",
      "25/25 [==============================] - 0s 13ms/step - loss: 1.5096 - mae: 1.9520\n",
      "Epoch 78/150\n",
      "25/25 [==============================] - 0s 13ms/step - loss: 1.5137 - mae: 1.9559\n",
      "Epoch 79/150\n",
      "25/25 [==============================] - 0s 13ms/step - loss: 1.5082 - mae: 1.9505\n",
      "Epoch 80/150\n",
      "25/25 [==============================] - 0s 13ms/step - loss: 1.5103 - mae: 1.9520\n",
      "Epoch 81/150\n",
      "25/25 [==============================] - 0s 13ms/step - loss: 1.5143 - mae: 1.9565\n",
      "Epoch 82/150\n",
      "25/25 [==============================] - 0s 13ms/step - loss: 1.5063 - mae: 1.9490\n",
      "Epoch 83/150\n",
      "25/25 [==============================] - 0s 13ms/step - loss: 1.5078 - mae: 1.9494\n",
      "Epoch 84/150\n",
      "25/25 [==============================] - 0s 12ms/step - loss: 1.5068 - mae: 1.9501\n",
      "Epoch 85/150\n",
      "25/25 [==============================] - 0s 13ms/step - loss: 1.5061 - mae: 1.9484\n",
      "Epoch 86/150\n",
      "25/25 [==============================] - 0s 13ms/step - loss: 1.5057 - mae: 1.9475\n",
      "Epoch 87/150\n",
      "25/25 [==============================] - 0s 14ms/step - loss: 1.5075 - mae: 1.9489\n",
      "Epoch 88/150\n",
      "25/25 [==============================] - 0s 14ms/step - loss: 1.5035 - mae: 1.9467\n",
      "Epoch 89/150\n",
      "25/25 [==============================] - 0s 14ms/step - loss: 1.5054 - mae: 1.9463\n",
      "Epoch 90/150\n",
      "25/25 [==============================] - 0s 13ms/step - loss: 1.5052 - mae: 1.9479\n",
      "Epoch 91/150\n",
      "25/25 [==============================] - 0s 13ms/step - loss: 1.5045 - mae: 1.9468\n",
      "Epoch 92/150\n",
      "25/25 [==============================] - 0s 13ms/step - loss: 1.5034 - mae: 1.9459\n",
      "Epoch 93/150\n",
      "25/25 [==============================] - 0s 13ms/step - loss: 1.5025 - mae: 1.9445\n",
      "Epoch 94/150\n",
      "25/25 [==============================] - 0s 13ms/step - loss: 1.5010 - mae: 1.9437\n",
      "Epoch 95/150\n",
      "25/25 [==============================] - 0s 13ms/step - loss: 1.5092 - mae: 1.9529\n",
      "Epoch 96/150\n",
      "25/25 [==============================] - 0s 13ms/step - loss: 1.5012 - mae: 1.9448\n",
      "Epoch 97/150\n",
      "25/25 [==============================] - 0s 13ms/step - loss: 1.5042 - mae: 1.9469\n",
      "Epoch 98/150\n",
      "25/25 [==============================] - 0s 12ms/step - loss: 1.5051 - mae: 1.9469\n",
      "Epoch 99/150\n",
      "25/25 [==============================] - 0s 13ms/step - loss: 1.5012 - mae: 1.9426\n",
      "Epoch 100/150\n",
      "25/25 [==============================] - 0s 13ms/step - loss: 1.4997 - mae: 1.9425\n",
      "Epoch 101/150\n",
      "25/25 [==============================] - 0s 14ms/step - loss: 1.5004 - mae: 1.9427\n",
      "Epoch 102/150\n",
      "25/25 [==============================] - 0s 13ms/step - loss: 1.4979 - mae: 1.9410\n",
      "Epoch 103/150\n",
      "25/25 [==============================] - 0s 13ms/step - loss: 1.4986 - mae: 1.9412\n",
      "Epoch 104/150\n",
      "25/25 [==============================] - 0s 13ms/step - loss: 1.4992 - mae: 1.9418\n",
      "Epoch 105/150\n",
      "25/25 [==============================] - 0s 13ms/step - loss: 1.4987 - mae: 1.9410\n",
      "Epoch 106/150\n",
      "25/25 [==============================] - 0s 13ms/step - loss: 1.4996 - mae: 1.9411\n",
      "Epoch 107/150\n",
      "25/25 [==============================] - 0s 13ms/step - loss: 1.5003 - mae: 1.9429\n",
      "Epoch 108/150\n",
      "25/25 [==============================] - 0s 14ms/step - loss: 1.5015 - mae: 1.9414\n",
      "Epoch 109/150\n",
      "25/25 [==============================] - 0s 13ms/step - loss: 1.4990 - mae: 1.9413\n",
      "Epoch 110/150\n",
      "25/25 [==============================] - 0s 13ms/step - loss: 1.5006 - mae: 1.9427\n",
      "Epoch 111/150\n",
      "25/25 [==============================] - 0s 13ms/step - loss: 1.4968 - mae: 1.9401\n",
      "Epoch 112/150\n",
      "25/25 [==============================] - 0s 13ms/step - loss: 1.4972 - mae: 1.9388\n",
      "Epoch 113/150\n",
      "25/25 [==============================] - 0s 13ms/step - loss: 1.4967 - mae: 1.9378\n",
      "Epoch 114/150\n",
      "25/25 [==============================] - 0s 13ms/step - loss: 1.4955 - mae: 1.9380\n",
      "Epoch 115/150\n",
      "25/25 [==============================] - 0s 13ms/step - loss: 1.4941 - mae: 1.9377\n",
      "Epoch 116/150\n",
      "25/25 [==============================] - 0s 13ms/step - loss: 1.4978 - mae: 1.9391\n",
      "Epoch 117/150\n",
      "25/25 [==============================] - 0s 13ms/step - loss: 1.4982 - mae: 1.9377\n",
      "Epoch 118/150\n",
      "25/25 [==============================] - 0s 14ms/step - loss: 1.4965 - mae: 1.9383\n",
      "Epoch 119/150\n",
      "25/25 [==============================] - 0s 13ms/step - loss: 1.4951 - mae: 1.9370\n",
      "Epoch 120/150\n",
      "25/25 [==============================] - 0s 13ms/step - loss: 1.4952 - mae: 1.9381\n",
      "Epoch 121/150\n",
      "25/25 [==============================] - 0s 13ms/step - loss: 1.5003 - mae: 1.9426\n",
      "Epoch 122/150\n",
      "25/25 [==============================] - 0s 14ms/step - loss: 1.4956 - mae: 1.9375\n",
      "Epoch 123/150\n",
      "25/25 [==============================] - 0s 13ms/step - loss: 1.5006 - mae: 1.9424\n",
      "Epoch 124/150\n",
      "25/25 [==============================] - 0s 14ms/step - loss: 1.4941 - mae: 1.9369\n",
      "Epoch 125/150\n",
      "25/25 [==============================] - 0s 13ms/step - loss: 1.4950 - mae: 1.9366\n",
      "Epoch 126/150\n",
      "25/25 [==============================] - 0s 13ms/step - loss: 1.4938 - mae: 1.9359\n",
      "Epoch 127/150\n",
      "25/25 [==============================] - 0s 13ms/step - loss: 1.4936 - mae: 1.9353\n",
      "Epoch 128/150\n",
      "25/25 [==============================] - 0s 14ms/step - loss: 1.4932 - mae: 1.9349\n",
      "Epoch 129/150\n",
      "25/25 [==============================] - 0s 13ms/step - loss: 1.4938 - mae: 1.9336\n",
      "Epoch 130/150\n",
      "25/25 [==============================] - 0s 14ms/step - loss: 1.4965 - mae: 1.9373\n",
      "Epoch 131/150\n",
      "25/25 [==============================] - 0s 14ms/step - loss: 1.4919 - mae: 1.9335\n",
      "Epoch 132/150\n",
      "25/25 [==============================] - 0s 13ms/step - loss: 1.4985 - mae: 1.9414\n",
      "Epoch 133/150\n",
      "25/25 [==============================] - 0s 13ms/step - loss: 1.4955 - mae: 1.9379\n",
      "Epoch 134/150\n",
      "25/25 [==============================] - 0s 12ms/step - loss: 1.4956 - mae: 1.9382\n",
      "Epoch 135/150\n",
      "25/25 [==============================] - 0s 13ms/step - loss: 1.4920 - mae: 1.9322\n",
      "Epoch 136/150\n",
      "25/25 [==============================] - 0s 13ms/step - loss: 1.4917 - mae: 1.9333\n",
      "Epoch 137/150\n",
      "25/25 [==============================] - 0s 13ms/step - loss: 1.4946 - mae: 1.9363\n",
      "Epoch 138/150\n",
      "25/25 [==============================] - 0s 13ms/step - loss: 1.4904 - mae: 1.9329\n",
      "Epoch 139/150\n",
      "25/25 [==============================] - 0s 13ms/step - loss: 1.4885 - mae: 1.9321\n",
      "Epoch 140/150\n",
      "25/25 [==============================] - 0s 13ms/step - loss: 1.4897 - mae: 1.9325\n",
      "Epoch 141/150\n",
      "25/25 [==============================] - 0s 13ms/step - loss: 1.4902 - mae: 1.9311\n",
      "Epoch 142/150\n",
      "25/25 [==============================] - 0s 13ms/step - loss: 1.4900 - mae: 1.9304\n",
      "Epoch 143/150\n",
      "25/25 [==============================] - 0s 13ms/step - loss: 1.4916 - mae: 1.9333\n",
      "Epoch 144/150\n",
      "25/25 [==============================] - 0s 14ms/step - loss: 1.4909 - mae: 1.9326\n",
      "Epoch 145/150\n",
      "25/25 [==============================] - 0s 13ms/step - loss: 1.4887 - mae: 1.9299\n",
      "Epoch 146/150\n",
      "25/25 [==============================] - 0s 13ms/step - loss: 1.4943 - mae: 1.9364\n",
      "Epoch 147/150\n",
      "25/25 [==============================] - 0s 13ms/step - loss: 1.4889 - mae: 1.9306\n",
      "Epoch 148/150\n",
      "25/25 [==============================] - 0s 14ms/step - loss: 1.4882 - mae: 1.9300\n",
      "Epoch 149/150\n",
      "25/25 [==============================] - 0s 16ms/step - loss: 1.4900 - mae: 1.9307\n",
      "Epoch 150/150\n",
      "25/25 [==============================] - 0s 13ms/step - loss: 1.4886 - mae: 1.9292\n"
     ]
    }
   ],
   "source": [
    "tf.keras.backend.clear_session()\n",
    "tf.random.set_seed(51)\n",
    "np.random.seed(51)\n",
    "train_set = windowed_dataset(x_train, window_size=60, batch_size=100, shuffle_buffer=shuffle_buffer_size)\n",
    "model = tf.keras.models.Sequential([\n",
    "  tf.keras.layers.Conv1D(filters=60, kernel_size=5,\n",
    "                      strides=1, padding=\"causal\",\n",
    "                      activation=\"relu\",\n",
    "                      input_shape=[None, 1]),\n",
    "  tf.keras.layers.LSTM(60, return_sequences=True),\n",
    "  tf.keras.layers.LSTM(60, return_sequences=True),\n",
    "  tf.keras.layers.Dense(30, activation=\"relu\"),\n",
    "  tf.keras.layers.Dense(10, activation=\"relu\"),\n",
    "  tf.keras.layers.Dense(1),\n",
    "  tf.keras.layers.Lambda(lambda x: x * 400)\n",
    "])\n",
    "\n",
    "\n",
    "optimizer = tf.keras.optimizers.SGD(lr=1e-5, momentum=0.9)\n",
    "model.compile(loss=tf.keras.losses.Huber(),\n",
    "              optimizer=optimizer,\n",
    "              metrics=[\"mae\"])\n",
    "history = model.fit(train_set,epochs=150)"
   ]
  },
  {
   "cell_type": "code",
   "execution_count": 0,
   "metadata": {
    "colab": {},
    "colab_type": "code",
    "id": "cs-WRbonygWp"
   },
   "outputs": [],
   "source": [
    "rnn_forecast = model_forecast(model, series[..., np.newaxis], window_size)\n",
    "rnn_forecast = rnn_forecast[split_time - window_size:-1, -1, 0]"
   ]
  },
  {
   "cell_type": "markdown",
   "metadata": {
    "colab_type": "text",
    "id": "-YdXWvuL-P-c"
   },
   "source": [
    "We are removing the series data at time before split_time - window_size and then taking the data all the way to the end. After that, we plot to see the validation vs prediction."
   ]
  },
  {
   "cell_type": "code",
   "execution_count": 15,
   "metadata": {
    "colab": {
     "base_uri": "https://localhost:8080/",
     "height": 389
    },
    "colab_type": "code",
    "id": "zsYbgkbSylQB",
    "outputId": "79c4337b-f905-4dbf-85cd-8a6f3391077f"
   },
   "outputs": [
    {
     "data": {
      "image/png": "[encoded data removed]",
      "text/plain": [
       "<Figure size 720x432 with 1 Axes>"
      ]
     },
     "metadata": {
      "needs_background": "light",
      "tags": []
     },
     "output_type": "display_data"
    }
   ],
   "source": [
    "plt.figure(figsize=(10, 6))\n",
    "plot_series(time_valid, x_valid)\n",
    "plot_series(time_valid, rnn_forecast)"
   ]
  },
  {
   "cell_type": "code",
   "execution_count": 16,
   "metadata": {
    "colab": {
     "base_uri": "https://localhost:8080/",
     "height": 34
    },
    "colab_type": "code",
    "id": "56rRUsVUynsn",
    "outputId": "77ab63a4-1109-47b9-ac55-8832a6789b2b"
   },
   "outputs": [
    {
     "data": {
      "text/plain": [
       "1.7796258"
      ]
     },
     "execution_count": 16,
     "metadata": {
      "tags": []
     },
     "output_type": "execute_result"
    }
   ],
   "source": [
    "tf.keras.metrics.mean_absolute_error(x_valid, rnn_forecast).numpy()"
   ]
  },
  {
   "cell_type": "markdown",
   "metadata": {
    "colab_type": "text",
    "id": "3JHWtSYg_to3"
   },
   "source": [
    "The mean absolute error is really low compared to the other models we have tried out before. The next statement simply prints the forecasted values."
   ]
  },
  {
   "cell_type": "code",
   "execution_count": 17,
   "metadata": {
    "colab": {
     "base_uri": "https://localhost:8080/",
     "height": 34
    },
    "colab_type": "code",
    "id": "nJiN_cHrypQD",
    "outputId": "90791288-835b-48f1-b34a-09a63463b152"
   },
   "outputs": [
    {
     "name": "stdout",
     "output_type": "stream",
     "text": [
      "[11.329356 10.705612 12.124963 ... 13.604561 13.796917 15.009445]\n"
     ]
    }
   ],
   "source": [
    "print(rnn_forecast)"
   ]
  }
 ],
 "metadata": {
  "accelerator": "GPU",
  "colab": {
   "name": "Sunspot_Dataset.ipynb",
   "provenance": []
  },
  "kernelspec": {
   "display_name": "Python 3",
   "language": "python",
   "name": "python3"
  },
  "language_info": {
   "codemirror_mode": {
    "name": "ipython",
    "version": 3
   },
   "file_extension": ".py",
   "mimetype": "text/x-python",
   "name": "python",
   "nbconvert_exporter": "python",
   "pygments_lexer": "ipython3",
   "version": "3.6.10"
  }
 },
 "nbformat": 4,
 "nbformat_minor": 1
}
